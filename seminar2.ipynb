print("hello!") ; print("hello!")
hello!
hello!
bye
print("hello world" , end=" ") ; print("bye")
hello world bye
1,2
max(1,2)
2
 , 45, -10
print("hello" , 45, -10)
hello 45 -10
,10,45
print("hello",10,45)
hello 10 45
print("hello" , 45 , -10, sep="")
hello45-10
test_10=max(1,2,4,6); print("maximum =" , test_10)
maximum = 6
x=300; y="giraf"; z="kg."; x, y, z
(300, 'giraf', 'kg.')
x
x
300
y
y
'giraf'
print("{} vesit {} kg." .format(y , x),)
giraf vesit 300 kg.
print("{} vesit {} {}" .format(y,x,z), 9999, "hello", sep="---")
giraf vesit 300 kg.---9999---hello
10; 1000
1000
10, 1000
10, 1000
(10, 1000)
x=10; y=1000; print(x,y); x_1="помидоры"; x_2="beaujole nouveau"
x=10; y=1000; print(x,y); x_1="помидоры"; x_2="beaujole nouveau"
10 1000
print("{:>11d}" . format(x)); print("{:>11d}" . format(y))
print("{:>11d}" . format(x)); print("{:>11d}" . format(y))
         10
       1000
print("{:<20} {:>11d}" . format(x_1,x)); print("{:<20}{:>11d}" . format(x_2,y))
print("{:<20} {:>11d}" . format(x_1,x)); print("{:<20}{:>11d}" . format(x_2,y))
помидоры                      10
beaujole nouveau           1000
print("{:<20s} {:>11d}" . format(x_1,x)); print("{:<20s}{:>11d}" . format(x_2,y))
print("{:<20s} {:>11d}" . format(x_1,x)); print("{:<20s}{:>11d}" . format(x_2,y))
помидоры                      10
beaujole nouveau           1000
print("{:^20s} {:>11d}" . format(x_1,x)); print("{:^20s}{:>11d}" . format(x_2,y))
print("{:^20s} {:>11d}" . format(x_1,x)); print("{:^20s}{:>11d}" . format(x_2,y))
      помидоры                10
  beaujole nouveau         1000
print("{:_<20s}{:_>11d}" . format(x_1,x)); print("{:_<20s}{:_>11d}" . format(x_2,y))
print("{:_<20s}{:_>11d}" . format(x_1,x)); print("{:_<20s}{:_>11d}" . format(x_2,y))
помидоры_____________________10
beaujole nouveau___________1000
print("{:.<20s}{:.>11d}" . format(x_1,x)) ; print("{:.<20s}{:.>10d}" . format(x_2,y))
print("{:.<20s}{:.>11d}" . format(x_1,x)) ; print("{:.<20s}{:.>10d}" . format(x_2,y))
помидоры.....................10
beaujole nouveau..........1000
.76
x=10.45; y=1000.76; print(x,y); x_1="помидоры"; x_2="beaujole nouveau"
10.45 1000.76
.2
print("{:.<20s}{:.>11.2f}" . format(x_1,x)) ; print("{:.<20s}{:.>10.2f}" . format(x_2,y))
помидоры..................10.45
beaujole nouveau.......1000.76
